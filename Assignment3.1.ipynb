{
 "cells": [
  {
   "cell_type": "code",
   "execution_count": 83,
   "metadata": {},
   "outputs": [],
   "source": [
    "#Problem Statement 1:\n",
    "\n",
    "\n",
    "#Write a Python Program to implement your own myreduce() function which works exactly\n",
    "#like Python's built-in function reduce()\n",
    "\n",
    "def myreduce(func, seq):\n",
    "    tmp = seq[0]\n",
    "    for item in seq[1:]:\n",
    "        tmp = func(tmp, item)\n",
    "    return tmp"
   ]
  },
  {
   "cell_type": "code",
   "execution_count": 84,
   "metadata": {},
   "outputs": [
    {
     "data": {
      "text/plain": [
       "30"
      ]
     },
     "execution_count": 84,
     "metadata": {},
     "output_type": "execute_result"
    }
   ],
   "source": [
    "#Output-1\n",
    "\n",
    "seq =[15,5,5,5]\n",
    "myreduce(lambda x,y: x+y,seq)"
   ]
  },
  {
   "cell_type": "code",
   "execution_count": 85,
   "metadata": {
    "scrolled": true
   },
   "outputs": [
    {
     "data": {
      "text/plain": [
       "114"
      ]
     },
     "execution_count": 85,
     "metadata": {},
     "output_type": "execute_result"
    }
   ],
   "source": [
    "#Output-2\n",
    "\n",
    "seq =[48,11,42,13]\n",
    "myreduce(lambda x,y: x+y,seq)"
   ]
  },
  {
   "cell_type": "code",
   "execution_count": null,
   "metadata": {
    "collapsed": true
   },
   "outputs": [],
   "source": [
    "#Problem Statement 2:\n",
    "\n",
    "\n",
    "#Write a Python program to implement your own myfilter() function which works exactly\n",
    "#like Python's built-in function filter()\n",
    "\n",
    "# Syntax of filter(function, list)\n",
    "\n",
    "def myfilter(function, iterable):\n",
    "    \"\"\"myfilter(function or None, iterable) --> filter object\n",
    "\n",
    "    Return an iterator yielding those items of iterable for which function(item)\n",
    "    is true. If function is None, return the items that are true.\"\"\"\n",
    "    if function is None:\n",
    "        return (item for item in iterable if item)\n",
    "    return (item for item in iterable if function(item))"
   ]
  },
  {
   "cell_type": "code",
   "execution_count": 132,
   "metadata": {},
   "outputs": [],
   "source": [
    "# Sample Function to check even number in range 0 to 20\n",
    "def even_check(num):\n",
    "    if num%2 ==0:\n",
    "        return True"
   ]
  },
  {
   "cell_type": "code",
   "execution_count": 133,
   "metadata": {
    "scrolled": true
   },
   "outputs": [
    {
     "data": {
      "text/plain": [
       "[0, 2, 4, 6, 8, 10, 12, 14, 16, 18]"
      ]
     },
     "execution_count": 133,
     "metadata": {},
     "output_type": "execute_result"
    }
   ],
   "source": [
    "#Output-1\n",
    "lst =range(20)\n",
    "list(myfilter(even_check,lst))"
   ]
  },
  {
   "cell_type": "code",
   "execution_count": 134,
   "metadata": {},
   "outputs": [
    {
     "data": {
      "text/plain": [
       "[0, 2, 4, 6, 8, 10, 12, 14, 16, 18, 20, 22, 24, 26, 28]"
      ]
     },
     "execution_count": 134,
     "metadata": {},
     "output_type": "execute_result"
    }
   ],
   "source": [
    "#Output-2\n",
    "\n",
    "lst =range(30)\n",
    "list(myfilter(even_check,lst))"
   ]
  }
 ],
 "metadata": {
  "kernelspec": {
   "display_name": "Python 3",
   "language": "python",
   "name": "python3"
  },
  "language_info": {
   "codemirror_mode": {
    "name": "ipython",
    "version": 3
   },
   "file_extension": ".py",
   "mimetype": "text/x-python",
   "name": "python",
   "nbconvert_exporter": "python",
   "pygments_lexer": "ipython3",
   "version": "3.6.3"
  }
 },
 "nbformat": 4,
 "nbformat_minor": 2
}
